{
  "nbformat": 4,
  "nbformat_minor": 0,
  "metadata": {
    "colab": {
      "name": "Flower_dectection_assignment_4_.ipynb",
      "provenance": [],
      "collapsed_sections": []
    },
    "kernelspec": {
      "name": "python3",
      "display_name": "Python 3"
    },
    "language_info": {
      "name": "python"
    },
    "accelerator": "GPU"
  },
  "cells": [
    {
      "cell_type": "code",
      "metadata": {
        "id": "BL-UDz_NwlzB"
      },
      "source": [
        "import pandas as pd\n",
        "import numpy as np\n",
        "import matplotlib.pyplot as plt\n",
        "import tensorflow as tf\n",
        "import glob as gb\n",
        "import cv2\n",
        "import pandas as pd\n",
        "import tensorflow as tf\n",
        "from tensorflow.keras import models\n",
        "from tensorflow.keras import layers\n",
        "from tensorflow.keras.preprocessing.image import ImageDataGenerator\n",
        "from tensorflow.keras.models import Sequential\n",
        "from tensorflow.keras.layers import Dense, Flatten\n",
        "from tensorflow.keras.optimizers import RMSprop\n",
        "from pathlib import Path"
      ],
      "execution_count": 2,
      "outputs": []
    },
    {
      "cell_type": "code",
      "metadata": {
        "colab": {
          "base_uri": "https://localhost:8080/"
        },
        "id": "sejXaLGQ6RgS",
        "outputId": "797aec39-a684-4908-ed2e-15c5929bab78"
      },
      "source": [
        "from google.colab import drive\n",
        "drive.mount('/content/drive')"
      ],
      "execution_count": 3,
      "outputs": [
        {
          "output_type": "stream",
          "text": [
            "Drive already mounted at /content/drive; to attempt to forcibly remount, call drive.mount(\"/content/drive\", force_remount=True).\n"
          ],
          "name": "stdout"
        }
      ]
    },
    {
      "cell_type": "markdown",
      "metadata": {
        "id": "rtFGZQz915GB"
      },
      "source": [
        "# **Reading data from Google Drive**"
      ]
    },
    {
      "cell_type": "code",
      "metadata": {
        "colab": {
          "base_uri": "https://localhost:8080/"
        },
        "id": "-NGAk23wy9tN",
        "outputId": "1fbb79f8-4b4b-4651-c14a-56bd3c036c76"
      },
      "source": [
        "with tf.device('/device:GPU:1'):\n",
        "  flower = []\n",
        "  features = []\n",
        "  labels = []\n",
        "  directory = Path('/content/drive/MyDrive/flowers')\n",
        "  for dir in directory.iterdir():\n",
        "    flower.append(dir.name)\n",
        "    print(dir.name)\n",
        "    for imgpath in dir.iterdir():\n",
        "      if imgpath.name.endswith('jpg'):\n",
        "        labels.append(dir.name)\n",
        "        imgarr = cv2.imread(str(imgpath),cv2.IMREAD_GRAYSCALE)\n",
        "        imgarr = cv2.resize(imgarr,(150,150))\n",
        "        features.append(imgarr)"
      ],
      "execution_count": 4,
      "outputs": [
        {
          "output_type": "stream",
          "text": [
            "daisy\n",
            "rose\n",
            "sunflower\n",
            "dandelion\n",
            "tulip\n"
          ],
          "name": "stdout"
        }
      ]
    },
    {
      "cell_type": "code",
      "metadata": {
        "colab": {
          "base_uri": "https://localhost:8080/"
        },
        "id": "e2T1Mut0OXdJ",
        "outputId": "da45f3e8-9b5f-41d0-dde4-a78e6b70dc47"
      },
      "source": [
        "np.array(features).shape"
      ],
      "execution_count": 5,
      "outputs": [
        {
          "output_type": "execute_result",
          "data": {
            "text/plain": [
              "(4348, 220, 220)"
            ]
          },
          "metadata": {
            "tags": []
          },
          "execution_count": 5
        }
      ]
    },
    {
      "cell_type": "markdown",
      "metadata": {
        "id": "WLV5gNKI2CwC"
      },
      "source": [
        "Shuffling Data and Labels with Seed"
      ]
    },
    {
      "cell_type": "code",
      "metadata": {
        "id": "b89pHxr4P0AO"
      },
      "source": [
        "seed = np.random.randint(100)\n",
        "np.random.seed(seed)\n",
        "np.random.shuffle(features)\n",
        "np.random.seed(seed)\n",
        "np.random.shuffle(labels)"
      ],
      "execution_count": 6,
      "outputs": []
    },
    {
      "cell_type": "markdown",
      "metadata": {
        "id": "koOszUWa2L9F"
      },
      "source": [
        "# **For One Hot Encode processing Data**"
      ]
    },
    {
      "cell_type": "code",
      "metadata": {
        "colab": {
          "base_uri": "https://localhost:8080/"
        },
        "id": "VBZq_EjTWFe7",
        "outputId": "345f73f0-9a79-4124-dae1-e660ecf50a4f"
      },
      "source": [
        "all_labels = pd.Series(labels)\n",
        "all_labels.unique()\n",
        "all_labels_cat = all_labels.astype('category')\n",
        "all_labels_cat"
      ],
      "execution_count": 7,
      "outputs": [
        {
          "output_type": "execute_result",
          "data": {
            "text/plain": [
              "0           tulip\n",
              "1       dandelion\n",
              "2           tulip\n",
              "3           tulip\n",
              "4           tulip\n",
              "          ...    \n",
              "4343    sunflower\n",
              "4344        tulip\n",
              "4345         rose\n",
              "4346        daisy\n",
              "4347        tulip\n",
              "Length: 4348, dtype: category\n",
              "Categories (5, object): ['daisy', 'dandelion', 'rose', 'sunflower', 'tulip']"
            ]
          },
          "metadata": {
            "tags": []
          },
          "execution_count": 7
        }
      ]
    },
    {
      "cell_type": "code",
      "metadata": {
        "colab": {
          "base_uri": "https://localhost:8080/"
        },
        "id": "043JKuzJjTdV",
        "outputId": "25eaa17e-de04-4a43-d64b-f1f13d113d57"
      },
      "source": [
        "all_labels_cat = all_labels.astype('category').cat.codes\n",
        "print(all_labels_cat.head())\n",
        "from keras.utils.np_utils import to_categorical\n",
        "allEncodedLabels = to_categorical(all_labels_cat)\n",
        "len(allEncodedLabels)"
      ],
      "execution_count": 8,
      "outputs": [
        {
          "output_type": "stream",
          "text": [
            "0    4\n",
            "1    1\n",
            "2    4\n",
            "3    4\n",
            "4    4\n",
            "dtype: int8\n"
          ],
          "name": "stdout"
        },
        {
          "output_type": "execute_result",
          "data": {
            "text/plain": [
              "4348"
            ]
          },
          "metadata": {
            "tags": []
          },
          "execution_count": 8
        }
      ]
    },
    {
      "cell_type": "markdown",
      "metadata": {
        "id": "bsOutcCt2WgV"
      },
      "source": [
        "# **Dividing data in Training,validation and Testind datasets**"
      ]
    },
    {
      "cell_type": "code",
      "metadata": {
        "id": "C0egj8klSRSZ"
      },
      "source": [
        "data_len = len(features)\n",
        "train_data = features[:data_len*50//100]\n",
        "val_data = features[data_len*50//100:data_len*70//100]\n",
        "test_data = features[data_len*70//100:]\n",
        "labels_len = len(allEncodedLabels)\n",
        "train_labels = allEncodedLabels[:labels_len*50//100]\n",
        "val_labels = allEncodedLabels[labels_len*50//100:labels_len*70//100]\n",
        "test_labels = allEncodedLabels[labels_len*70//100:]"
      ],
      "execution_count": 9,
      "outputs": []
    },
    {
      "cell_type": "code",
      "metadata": {
        "id": "FFBf-2UKSu4r"
      },
      "source": [
        "train_data = np.array(train_data)\n",
        "val_data = np.array(val_data)\n",
        "test_data = np.array(test_data)\n",
        "# tarin_data = np.array(train_data)\n",
        "# tarin_data = np.array(train_data)\n",
        "# tarin_data = np.array(train_data)"
      ],
      "execution_count": 10,
      "outputs": []
    },
    {
      "cell_type": "markdown",
      "metadata": {
        "id": "oGNFTZ6o2kOT"
      },
      "source": [
        "# **ReShapeing and Normalizing data**"
      ]
    },
    {
      "cell_type": "code",
      "metadata": {
        "id": "m4a8cunXS7Zx"
      },
      "source": [
        "train_data = train_data.reshape((2174,220*220))\n",
        "val_data = val_data.reshape((869,220*220))\n",
        "test_data = test_data.reshape((1305,220*220))\n",
        "train_data = train_data.astype(\"float32\")/255\n",
        "val_data = val_data.astype(\"float32\")/255\n",
        "test_data = test_data.astype(\"float32\")/255"
      ],
      "execution_count": 11,
      "outputs": []
    },
    {
      "cell_type": "markdown",
      "metadata": {
        "id": "2QLlw6LK2shp"
      },
      "source": [
        "# **Preparing Model with Relu as activation function**"
      ]
    },
    {
      "cell_type": "code",
      "metadata": {
        "id": "UNwCkCM8Y5rG"
      },
      "source": [
        "from keras import models\n",
        "from keras import layers\n",
        "network = models.Sequential()\n",
        "network.add(layers.Dense(512, activation='relu', input_shape=(220*220,)))\n",
        "network.add(layers.Dense(256, activation='relu'))\n",
        "network.add(layers.Dense(5, activation='softmax'))"
      ],
      "execution_count": 12,
      "outputs": []
    },
    {
      "cell_type": "code",
      "metadata": {
        "id": "GoPjkcXemSWg"
      },
      "source": [
        "network.compile(optimizer='rmsprop',\n",
        "loss='categorical_crossentropy',\n",
        "metrics=['accuracy'])"
      ],
      "execution_count": 13,
      "outputs": []
    },
    {
      "cell_type": "code",
      "metadata": {
        "colab": {
          "base_uri": "https://localhost:8080/"
        },
        "id": "VxsfGNagm-To",
        "outputId": "fe0a0864-5025-47e2-d2ba-2f8061a3eb07"
      },
      "source": [
        "with tf.device('/device:GPU:1'):\n",
        "  model = network.fit(train_data, train_labels, epochs=100, batch_size=256,validation_data=(val_data,val_labels))"
      ],
      "execution_count": 14,
      "outputs": [
        {
          "output_type": "stream",
          "text": [
            "Epoch 1/100\n",
            "9/9 [==============================] - 4s 86ms/step - loss: 111.7094 - accuracy: 0.2167 - val_loss: 28.1601 - val_accuracy: 0.2290\n",
            "Epoch 2/100\n",
            "9/9 [==============================] - 0s 48ms/step - loss: 26.7078 - accuracy: 0.2192 - val_loss: 13.2925 - val_accuracy: 0.2555\n",
            "Epoch 3/100\n",
            "9/9 [==============================] - 0s 47ms/step - loss: 15.8800 - accuracy: 0.2156 - val_loss: 11.3023 - val_accuracy: 0.2117\n",
            "Epoch 4/100\n",
            "9/9 [==============================] - 0s 48ms/step - loss: 12.0741 - accuracy: 0.2035 - val_loss: 16.4207 - val_accuracy: 0.2543\n",
            "Epoch 5/100\n",
            "9/9 [==============================] - 0s 49ms/step - loss: 12.4719 - accuracy: 0.2191 - val_loss: 13.0550 - val_accuracy: 0.1392\n",
            "Epoch 6/100\n",
            "9/9 [==============================] - 0s 50ms/step - loss: 7.7359 - accuracy: 0.2199 - val_loss: 6.6562 - val_accuracy: 0.2716\n",
            "Epoch 7/100\n",
            "9/9 [==============================] - 0s 46ms/step - loss: 6.0538 - accuracy: 0.2153 - val_loss: 3.6921 - val_accuracy: 0.3015\n",
            "Epoch 8/100\n",
            "9/9 [==============================] - 0s 48ms/step - loss: 4.1041 - accuracy: 0.2516 - val_loss: 6.3168 - val_accuracy: 0.2773\n",
            "Epoch 9/100\n",
            "9/9 [==============================] - 0s 48ms/step - loss: 3.9102 - accuracy: 0.2461 - val_loss: 3.7353 - val_accuracy: 0.2773\n",
            "Epoch 10/100\n",
            "9/9 [==============================] - 0s 48ms/step - loss: 4.2045 - accuracy: 0.2384 - val_loss: 2.2476 - val_accuracy: 0.2681\n",
            "Epoch 11/100\n",
            "9/9 [==============================] - 0s 47ms/step - loss: 1.9413 - accuracy: 0.2597 - val_loss: 1.7849 - val_accuracy: 0.2578\n",
            "Epoch 12/100\n",
            "9/9 [==============================] - 0s 48ms/step - loss: 1.7154 - accuracy: 0.2507 - val_loss: 1.5633 - val_accuracy: 0.3130\n",
            "Epoch 13/100\n",
            "9/9 [==============================] - 0s 48ms/step - loss: 2.0705 - accuracy: 0.2473 - val_loss: 1.6428 - val_accuracy: 0.2578\n",
            "Epoch 14/100\n",
            "9/9 [==============================] - 0s 47ms/step - loss: 1.7331 - accuracy: 0.2753 - val_loss: 1.5653 - val_accuracy: 0.2773\n",
            "Epoch 15/100\n",
            "9/9 [==============================] - 0s 47ms/step - loss: 1.5327 - accuracy: 0.3041 - val_loss: 1.7627 - val_accuracy: 0.1738\n",
            "Epoch 16/100\n",
            "9/9 [==============================] - 0s 47ms/step - loss: 1.6416 - accuracy: 0.2477 - val_loss: 1.6158 - val_accuracy: 0.2474\n",
            "Epoch 17/100\n",
            "9/9 [==============================] - 0s 46ms/step - loss: 1.7739 - accuracy: 0.2500 - val_loss: 1.6072 - val_accuracy: 0.2727\n",
            "Epoch 18/100\n",
            "9/9 [==============================] - 0s 48ms/step - loss: 1.5441 - accuracy: 0.2830 - val_loss: 1.6252 - val_accuracy: 0.2911\n",
            "Epoch 19/100\n",
            "9/9 [==============================] - 0s 46ms/step - loss: 1.5298 - accuracy: 0.3063 - val_loss: 1.6342 - val_accuracy: 0.2957\n",
            "Epoch 20/100\n",
            "9/9 [==============================] - 0s 47ms/step - loss: 1.5302 - accuracy: 0.3055 - val_loss: 1.5705 - val_accuracy: 0.3211\n",
            "Epoch 21/100\n",
            "9/9 [==============================] - 0s 45ms/step - loss: 1.6495 - accuracy: 0.2818 - val_loss: 1.6441 - val_accuracy: 0.2520\n",
            "Epoch 22/100\n",
            "9/9 [==============================] - 0s 49ms/step - loss: 1.5502 - accuracy: 0.2747 - val_loss: 1.8407 - val_accuracy: 0.2244\n",
            "Epoch 23/100\n",
            "9/9 [==============================] - 0s 48ms/step - loss: 1.5712 - accuracy: 0.2578 - val_loss: 1.6740 - val_accuracy: 0.2877\n",
            "Epoch 24/100\n",
            "9/9 [==============================] - 0s 48ms/step - loss: 1.5689 - accuracy: 0.2809 - val_loss: 9.6101 - val_accuracy: 0.1392\n",
            "Epoch 25/100\n",
            "9/9 [==============================] - 0s 46ms/step - loss: 3.8024 - accuracy: 0.2505 - val_loss: 1.6148 - val_accuracy: 0.2946\n",
            "Epoch 26/100\n",
            "9/9 [==============================] - 0s 46ms/step - loss: 1.5106 - accuracy: 0.2827 - val_loss: 2.2104 - val_accuracy: 0.1910\n",
            "Epoch 27/100\n",
            "9/9 [==============================] - 0s 47ms/step - loss: 1.6369 - accuracy: 0.2756 - val_loss: 1.6155 - val_accuracy: 0.3003\n",
            "Epoch 28/100\n",
            "9/9 [==============================] - 0s 46ms/step - loss: 1.5016 - accuracy: 0.3230 - val_loss: 1.9180 - val_accuracy: 0.1726\n",
            "Epoch 29/100\n",
            "9/9 [==============================] - 0s 46ms/step - loss: 1.5829 - accuracy: 0.2651 - val_loss: 1.5882 - val_accuracy: 0.2957\n",
            "Epoch 30/100\n",
            "9/9 [==============================] - 0s 47ms/step - loss: 1.5411 - accuracy: 0.3068 - val_loss: 1.8775 - val_accuracy: 0.2819\n",
            "Epoch 31/100\n",
            "9/9 [==============================] - 0s 46ms/step - loss: 1.5556 - accuracy: 0.2958 - val_loss: 1.7418 - val_accuracy: 0.2658\n",
            "Epoch 32/100\n",
            "9/9 [==============================] - 0s 48ms/step - loss: 1.5386 - accuracy: 0.2991 - val_loss: 1.5732 - val_accuracy: 0.2969\n",
            "Epoch 33/100\n",
            "9/9 [==============================] - 0s 49ms/step - loss: 1.4819 - accuracy: 0.3237 - val_loss: 1.5991 - val_accuracy: 0.2923\n",
            "Epoch 34/100\n",
            "9/9 [==============================] - 0s 49ms/step - loss: 1.5152 - accuracy: 0.3243 - val_loss: 1.6595 - val_accuracy: 0.3038\n",
            "Epoch 35/100\n",
            "9/9 [==============================] - 0s 49ms/step - loss: 1.4553 - accuracy: 0.3405 - val_loss: 1.5816 - val_accuracy: 0.3130\n",
            "Epoch 36/100\n",
            "9/9 [==============================] - 0s 45ms/step - loss: 1.4743 - accuracy: 0.3357 - val_loss: 1.6273 - val_accuracy: 0.2106\n",
            "Epoch 37/100\n",
            "9/9 [==============================] - 0s 47ms/step - loss: 1.4903 - accuracy: 0.3060 - val_loss: 1.7212 - val_accuracy: 0.3280\n",
            "Epoch 38/100\n",
            "9/9 [==============================] - 0s 48ms/step - loss: 1.4699 - accuracy: 0.3443 - val_loss: 1.6482 - val_accuracy: 0.3072\n",
            "Epoch 39/100\n",
            "9/9 [==============================] - 0s 50ms/step - loss: 1.4553 - accuracy: 0.3375 - val_loss: 1.6227 - val_accuracy: 0.2819\n",
            "Epoch 40/100\n",
            "9/9 [==============================] - 0s 48ms/step - loss: 1.4971 - accuracy: 0.3127 - val_loss: 1.5718 - val_accuracy: 0.3130\n",
            "Epoch 41/100\n",
            "9/9 [==============================] - 0s 48ms/step - loss: 1.4423 - accuracy: 0.3396 - val_loss: 1.6323 - val_accuracy: 0.3130\n",
            "Epoch 42/100\n",
            "9/9 [==============================] - 0s 49ms/step - loss: 1.4377 - accuracy: 0.3453 - val_loss: 1.7109 - val_accuracy: 0.2808\n",
            "Epoch 43/100\n",
            "9/9 [==============================] - 0s 49ms/step - loss: 1.4512 - accuracy: 0.3518 - val_loss: 1.8099 - val_accuracy: 0.2739\n",
            "Epoch 44/100\n",
            "9/9 [==============================] - 0s 47ms/step - loss: 1.5007 - accuracy: 0.3378 - val_loss: 1.5750 - val_accuracy: 0.3280\n",
            "Epoch 45/100\n",
            "9/9 [==============================] - 0s 48ms/step - loss: 2.1284 - accuracy: 0.3256 - val_loss: 1.6360 - val_accuracy: 0.3234\n",
            "Epoch 46/100\n",
            "9/9 [==============================] - 0s 48ms/step - loss: 1.4271 - accuracy: 0.3625 - val_loss: 1.6499 - val_accuracy: 0.2980\n",
            "Epoch 47/100\n",
            "9/9 [==============================] - 0s 50ms/step - loss: 1.4268 - accuracy: 0.3536 - val_loss: 1.7198 - val_accuracy: 0.2865\n",
            "Epoch 48/100\n",
            "9/9 [==============================] - 0s 46ms/step - loss: 1.4459 - accuracy: 0.3375 - val_loss: 1.8384 - val_accuracy: 0.2727\n",
            "Epoch 49/100\n",
            "9/9 [==============================] - 0s 47ms/step - loss: 1.5030 - accuracy: 0.3126 - val_loss: 1.6326 - val_accuracy: 0.3199\n",
            "Epoch 50/100\n",
            "9/9 [==============================] - 0s 48ms/step - loss: 1.4199 - accuracy: 0.3852 - val_loss: 1.7664 - val_accuracy: 0.3072\n",
            "Epoch 51/100\n",
            "9/9 [==============================] - 0s 48ms/step - loss: 1.4156 - accuracy: 0.3704 - val_loss: 1.7127 - val_accuracy: 0.3142\n",
            "Epoch 52/100\n",
            "9/9 [==============================] - 0s 48ms/step - loss: 1.4322 - accuracy: 0.3508 - val_loss: 1.7154 - val_accuracy: 0.2865\n",
            "Epoch 53/100\n",
            "9/9 [==============================] - 0s 48ms/step - loss: 1.4149 - accuracy: 0.3587 - val_loss: 1.6177 - val_accuracy: 0.3119\n",
            "Epoch 54/100\n",
            "9/9 [==============================] - 0s 46ms/step - loss: 1.3890 - accuracy: 0.3694 - val_loss: 1.8745 - val_accuracy: 0.2635\n",
            "Epoch 55/100\n",
            "9/9 [==============================] - 0s 47ms/step - loss: 1.4478 - accuracy: 0.3494 - val_loss: 1.8010 - val_accuracy: 0.2762\n",
            "Epoch 56/100\n",
            "9/9 [==============================] - 0s 46ms/step - loss: 1.4200 - accuracy: 0.3583 - val_loss: 1.8364 - val_accuracy: 0.3003\n",
            "Epoch 57/100\n",
            "9/9 [==============================] - 0s 50ms/step - loss: 1.4120 - accuracy: 0.3551 - val_loss: 1.8030 - val_accuracy: 0.3153\n",
            "Epoch 58/100\n",
            "9/9 [==============================] - 0s 49ms/step - loss: 1.4200 - accuracy: 0.3694 - val_loss: 1.6698 - val_accuracy: 0.2969\n",
            "Epoch 59/100\n",
            "9/9 [==============================] - 0s 50ms/step - loss: 1.4473 - accuracy: 0.3376 - val_loss: 2.1339 - val_accuracy: 0.2750\n",
            "Epoch 60/100\n",
            "9/9 [==============================] - 0s 47ms/step - loss: 1.4531 - accuracy: 0.3744 - val_loss: 1.8040 - val_accuracy: 0.2865\n",
            "Epoch 61/100\n",
            "9/9 [==============================] - 0s 46ms/step - loss: 1.3843 - accuracy: 0.3819 - val_loss: 1.6725 - val_accuracy: 0.3188\n",
            "Epoch 62/100\n",
            "9/9 [==============================] - 0s 48ms/step - loss: 1.3743 - accuracy: 0.3720 - val_loss: 1.7217 - val_accuracy: 0.3072\n",
            "Epoch 63/100\n",
            "9/9 [==============================] - 0s 49ms/step - loss: 1.3653 - accuracy: 0.3903 - val_loss: 2.3842 - val_accuracy: 0.2704\n",
            "Epoch 64/100\n",
            "9/9 [==============================] - 0s 48ms/step - loss: 1.6299 - accuracy: 0.3637 - val_loss: 1.9346 - val_accuracy: 0.3107\n",
            "Epoch 65/100\n",
            "9/9 [==============================] - 0s 45ms/step - loss: 1.3251 - accuracy: 0.4043 - val_loss: 1.8358 - val_accuracy: 0.2888\n",
            "Epoch 66/100\n",
            "9/9 [==============================] - 0s 46ms/step - loss: 1.3581 - accuracy: 0.3845 - val_loss: 1.8227 - val_accuracy: 0.3072\n",
            "Epoch 67/100\n",
            "9/9 [==============================] - 0s 48ms/step - loss: 1.3652 - accuracy: 0.3980 - val_loss: 1.9914 - val_accuracy: 0.2888\n",
            "Epoch 68/100\n",
            "9/9 [==============================] - 0s 47ms/step - loss: 1.4035 - accuracy: 0.3943 - val_loss: 2.6078 - val_accuracy: 0.3015\n",
            "Epoch 69/100\n",
            "9/9 [==============================] - 0s 48ms/step - loss: 1.7060 - accuracy: 0.3409 - val_loss: 2.0198 - val_accuracy: 0.3072\n",
            "Epoch 70/100\n",
            "9/9 [==============================] - 0s 48ms/step - loss: 1.4415 - accuracy: 0.4003 - val_loss: 2.1615 - val_accuracy: 0.2831\n",
            "Epoch 71/100\n",
            "9/9 [==============================] - 0s 48ms/step - loss: 1.3918 - accuracy: 0.4112 - val_loss: 1.8739 - val_accuracy: 0.3003\n",
            "Epoch 72/100\n",
            "9/9 [==============================] - 0s 47ms/step - loss: 1.3067 - accuracy: 0.4234 - val_loss: 1.8184 - val_accuracy: 0.3026\n",
            "Epoch 73/100\n",
            "9/9 [==============================] - 0s 46ms/step - loss: 1.3227 - accuracy: 0.4139 - val_loss: 1.9368 - val_accuracy: 0.3211\n",
            "Epoch 74/100\n",
            "9/9 [==============================] - 0s 48ms/step - loss: 1.3789 - accuracy: 0.3887 - val_loss: 1.8125 - val_accuracy: 0.2957\n",
            "Epoch 75/100\n",
            "9/9 [==============================] - 0s 49ms/step - loss: 1.3693 - accuracy: 0.3982 - val_loss: 2.2023 - val_accuracy: 0.2842\n",
            "Epoch 76/100\n",
            "9/9 [==============================] - 0s 48ms/step - loss: 1.4278 - accuracy: 0.3788 - val_loss: 1.8504 - val_accuracy: 0.3119\n",
            "Epoch 77/100\n",
            "9/9 [==============================] - 0s 48ms/step - loss: 1.3452 - accuracy: 0.4099 - val_loss: 2.0579 - val_accuracy: 0.3026\n",
            "Epoch 78/100\n",
            "9/9 [==============================] - 0s 48ms/step - loss: 1.3715 - accuracy: 0.4114 - val_loss: 1.7606 - val_accuracy: 0.3153\n",
            "Epoch 79/100\n",
            "9/9 [==============================] - 0s 45ms/step - loss: 1.2981 - accuracy: 0.4342 - val_loss: 2.1773 - val_accuracy: 0.3107\n",
            "Epoch 80/100\n",
            "9/9 [==============================] - 0s 48ms/step - loss: 1.4466 - accuracy: 0.3817 - val_loss: 1.8641 - val_accuracy: 0.3130\n",
            "Epoch 81/100\n",
            "9/9 [==============================] - 0s 46ms/step - loss: 1.2893 - accuracy: 0.4448 - val_loss: 2.0791 - val_accuracy: 0.2244\n",
            "Epoch 82/100\n",
            "9/9 [==============================] - 0s 48ms/step - loss: 1.3817 - accuracy: 0.3967 - val_loss: 1.9530 - val_accuracy: 0.2900\n",
            "Epoch 83/100\n",
            "9/9 [==============================] - 0s 50ms/step - loss: 1.3303 - accuracy: 0.4197 - val_loss: 1.8790 - val_accuracy: 0.3130\n",
            "Epoch 84/100\n",
            "9/9 [==============================] - 0s 47ms/step - loss: 1.2831 - accuracy: 0.4361 - val_loss: 1.7657 - val_accuracy: 0.2900\n",
            "Epoch 85/100\n",
            "9/9 [==============================] - 0s 46ms/step - loss: 1.2981 - accuracy: 0.4183 - val_loss: 2.0022 - val_accuracy: 0.2750\n",
            "Epoch 86/100\n",
            "9/9 [==============================] - 0s 48ms/step - loss: 1.3386 - accuracy: 0.4022 - val_loss: 1.8718 - val_accuracy: 0.3107\n",
            "Epoch 87/100\n",
            "9/9 [==============================] - 0s 49ms/step - loss: 1.3132 - accuracy: 0.4349 - val_loss: 1.7181 - val_accuracy: 0.3049\n",
            "Epoch 88/100\n",
            "9/9 [==============================] - 0s 47ms/step - loss: 1.3905 - accuracy: 0.4076 - val_loss: 2.1084 - val_accuracy: 0.2900\n",
            "Epoch 89/100\n",
            "9/9 [==============================] - 0s 43ms/step - loss: 1.2524 - accuracy: 0.4502 - val_loss: 1.8064 - val_accuracy: 0.3199\n",
            "Epoch 90/100\n",
            "9/9 [==============================] - 0s 47ms/step - loss: 1.2929 - accuracy: 0.4205 - val_loss: 1.8216 - val_accuracy: 0.2911\n",
            "Epoch 91/100\n",
            "9/9 [==============================] - 0s 46ms/step - loss: 1.3121 - accuracy: 0.4111 - val_loss: 2.1859 - val_accuracy: 0.3107\n",
            "Epoch 92/100\n",
            "9/9 [==============================] - 0s 46ms/step - loss: 1.3031 - accuracy: 0.4222 - val_loss: 1.8087 - val_accuracy: 0.3383\n",
            "Epoch 93/100\n",
            "9/9 [==============================] - 0s 46ms/step - loss: 1.2770 - accuracy: 0.4318 - val_loss: 1.9045 - val_accuracy: 0.3119\n",
            "Epoch 94/100\n",
            "9/9 [==============================] - 0s 47ms/step - loss: 1.2867 - accuracy: 0.4308 - val_loss: 2.0043 - val_accuracy: 0.3049\n",
            "Epoch 95/100\n",
            "9/9 [==============================] - 0s 47ms/step - loss: 1.3395 - accuracy: 0.4346 - val_loss: 1.8297 - val_accuracy: 0.2900\n",
            "Epoch 96/100\n",
            "9/9 [==============================] - 0s 46ms/step - loss: 1.2846 - accuracy: 0.4249 - val_loss: 2.2549 - val_accuracy: 0.2727\n",
            "Epoch 97/100\n",
            "9/9 [==============================] - 0s 46ms/step - loss: 1.2778 - accuracy: 0.4492 - val_loss: 1.9622 - val_accuracy: 0.3222\n",
            "Epoch 98/100\n",
            "9/9 [==============================] - 0s 49ms/step - loss: 1.2739 - accuracy: 0.4479 - val_loss: 1.8465 - val_accuracy: 0.2992\n",
            "Epoch 99/100\n",
            "9/9 [==============================] - 0s 48ms/step - loss: 1.2348 - accuracy: 0.4513 - val_loss: 2.1766 - val_accuracy: 0.2911\n",
            "Epoch 100/100\n",
            "9/9 [==============================] - 0s 46ms/step - loss: 1.3277 - accuracy: 0.4502 - val_loss: 1.9566 - val_accuracy: 0.3176\n"
          ],
          "name": "stdout"
        }
      ]
    },
    {
      "cell_type": "code",
      "metadata": {
        "id": "67VoWv-D32wg"
      },
      "source": [
        "dict_hist = model.history\n",
        "accuracy = dict_hist['accuracy']\n",
        "Val_accuracy = dict_hist['val_accuracy']\n",
        "Val_loss = dict_hist['val_loss']\n",
        "loss = dict_hist['loss']"
      ],
      "execution_count": 15,
      "outputs": []
    },
    {
      "cell_type": "code",
      "metadata": {
        "colab": {
          "base_uri": "https://localhost:8080/",
          "height": 313
        },
        "id": "3HzgbAZH4ga0",
        "outputId": "f5ec85d7-5b0c-4e44-bee0-1d074a9f2b17"
      },
      "source": [
        "epoches = np.arange(1,len(dict_hist['accuracy'])+1)\n",
        "plt.plot(epoches,accuracy,'b',label=\"Training Accuracy\")\n",
        "plt.plot(epoches,Val_accuracy,'r',label=\"Validation Accuracy\")\n",
        "plt.title('Training and validation Accuracy')\n",
        "plt.xlabel(\"Epoches\")\n",
        "plt.ylabel(\"Accuracy\")\n",
        "plt.legend()\n",
        "# plt.show()"
      ],
      "execution_count": 16,
      "outputs": [
        {
          "output_type": "execute_result",
          "data": {
            "text/plain": [
              "<matplotlib.legend.Legend at 0x7f6ff2426c50>"
            ]
          },
          "metadata": {
            "tags": []
          },
          "execution_count": 16
        },
        {
          "output_type": "display_data",
          "data": {
            "image/png": "[encoded data removed]",
            "text/plain": [
              "<Figure size 432x288 with 1 Axes>"
            ]
          },
          "metadata": {
            "tags": [],
            "needs_background": "light"
          }
        }
      ]
    },
    {
      "cell_type": "code",
      "metadata": {
        "colab": {
          "base_uri": "https://localhost:8080/",
          "height": 313
        },
        "id": "ZEKe24tQ4-0v",
        "outputId": "b97a6fff-e35d-45c1-9c99-a8c5bc43a615"
      },
      "source": [
        "epoches = np.arange(1,len(dict_hist['accuracy']) + 1)\n",
        "plt.plot(epoches,loss,'b',label=\"Training loss\")\n",
        "plt.plot(epoches,Val_loss,'r',label=\"Validation loss\")\n",
        "plt.title('Training and validation loss')\n",
        "plt.xlabel(\"Epoches\")\n",
        "plt.ylabel(\"Loss\")\n",
        "plt.legend()\n",
        "# plt.show()"
      ],
      "execution_count": 20,
      "outputs": [
        {
          "output_type": "execute_result",
          "data": {
            "text/plain": [
              "<matplotlib.legend.Legend at 0x7f6ff2132f50>"
            ]
          },
          "metadata": {
            "tags": []
          },
          "execution_count": 20
        },
        {
          "output_type": "display_data",
          "data": {
            "image/png": "[encoded data removed]",
            "text/plain": [
              "<Figure size 432x288 with 1 Axes>"
            ]
          },
          "metadata": {
            "tags": [],
            "needs_background": "light"
          }
        }
      ]
    },
    {
      "cell_type": "markdown",
      "metadata": {
        "id": "onAJ9qjy3nb0"
      },
      "source": [
        "# **Evaluation Step**"
      ]
    },
    {
      "cell_type": "code",
      "metadata": {
        "colab": {
          "base_uri": "https://localhost:8080/"
        },
        "id": "YRnmAf7foJA_",
        "outputId": "edec3726-a514-40d8-b1a8-2327ca94fb8f"
      },
      "source": [
        "test_loss, test_acc = network.evaluate(val_data, val_labels)"
      ],
      "execution_count": 17,
      "outputs": [
        {
          "output_type": "stream",
          "text": [
            "41/41 [==============================] - 0s 5ms/step - loss: 1.8652 - accuracy: 0.3065\n"
          ],
          "name": "stdout"
        }
      ]
    },
    {
      "cell_type": "markdown",
      "metadata": {
        "id": "DEO-0Gj9axi4"
      },
      "source": [
        "# **Prediction**"
      ]
    },
    {
      "cell_type": "code",
      "metadata": {
        "colab": {
          "base_uri": "https://localhost:8080/",
          "height": 340
        },
        "id": "4Iy1F3vHa2MW",
        "outputId": "62c8f1b2-622f-4527-9701-3441f5a9de59"
      },
      "source": [
        "predictions = network.predict(test_data,test_labels)"
      ],
      "execution_count": 21,
      "outputs": [
        {
          "output_type": "error",
          "ename": "ValueError",
          "evalue": "ignored",
          "traceback": [
            "\u001b[0;31m---------------------------------------------------------------------------\u001b[0m",
            "\u001b[0;31mValueError\u001b[0m                                Traceback (most recent call last)",
            "\u001b[0;32m<ipython-input-21-2c06d622dcc7>\u001b[0m in \u001b[0;36m<module>\u001b[0;34m()\u001b[0m\n\u001b[0;32m----> 1\u001b[0;31m \u001b[0mpredictions\u001b[0m \u001b[0;34m=\u001b[0m \u001b[0mnetwork\u001b[0m\u001b[0;34m.\u001b[0m\u001b[0mpredict\u001b[0m\u001b[0;34m(\u001b[0m\u001b[0mtest_data\u001b[0m\u001b[0;34m,\u001b[0m\u001b[0mtest_labels\u001b[0m\u001b[0;34m)\u001b[0m\u001b[0;34m\u001b[0m\u001b[0;34m\u001b[0m\u001b[0m\n\u001b[0m",
            "\u001b[0;32m/usr/local/lib/python3.7/dist-packages/tensorflow/python/keras/engine/training.py\u001b[0m in \u001b[0;36mpredict\u001b[0;34m(self, x, batch_size, verbose, steps, callbacks, max_queue_size, workers, use_multiprocessing)\u001b[0m\n\u001b[1;32m   1606\u001b[0m           \u001b[0muse_multiprocessing\u001b[0m\u001b[0;34m=\u001b[0m\u001b[0muse_multiprocessing\u001b[0m\u001b[0;34m,\u001b[0m\u001b[0;34m\u001b[0m\u001b[0;34m\u001b[0m\u001b[0m\n\u001b[1;32m   1607\u001b[0m           \u001b[0mmodel\u001b[0m\u001b[0;34m=\u001b[0m\u001b[0mself\u001b[0m\u001b[0;34m,\u001b[0m\u001b[0;34m\u001b[0m\u001b[0;34m\u001b[0m\u001b[0m\n\u001b[0;32m-> 1608\u001b[0;31m           steps_per_execution=self._steps_per_execution)\n\u001b[0m\u001b[1;32m   1609\u001b[0m \u001b[0;34m\u001b[0m\u001b[0m\n\u001b[1;32m   1610\u001b[0m       \u001b[0;31m# Container that configures and calls `tf.keras.Callback`s.\u001b[0m\u001b[0;34m\u001b[0m\u001b[0;34m\u001b[0m\u001b[0;34m\u001b[0m\u001b[0m\n",
            "\u001b[0;32m/usr/local/lib/python3.7/dist-packages/tensorflow/python/keras/engine/data_adapter.py\u001b[0m in \u001b[0;36m__init__\u001b[0;34m(self, x, y, sample_weight, batch_size, steps_per_epoch, initial_epoch, epochs, shuffle, class_weight, max_queue_size, workers, use_multiprocessing, model, steps_per_execution)\u001b[0m\n\u001b[1;32m   1110\u001b[0m         \u001b[0muse_multiprocessing\u001b[0m\u001b[0;34m=\u001b[0m\u001b[0muse_multiprocessing\u001b[0m\u001b[0;34m,\u001b[0m\u001b[0;34m\u001b[0m\u001b[0;34m\u001b[0m\u001b[0m\n\u001b[1;32m   1111\u001b[0m         \u001b[0mdistribution_strategy\u001b[0m\u001b[0;34m=\u001b[0m\u001b[0mds_context\u001b[0m\u001b[0;34m.\u001b[0m\u001b[0mget_strategy\u001b[0m\u001b[0;34m(\u001b[0m\u001b[0;34m)\u001b[0m\u001b[0;34m,\u001b[0m\u001b[0;34m\u001b[0m\u001b[0;34m\u001b[0m\u001b[0m\n\u001b[0;32m-> 1112\u001b[0;31m         model=model)\n\u001b[0m\u001b[1;32m   1113\u001b[0m \u001b[0;34m\u001b[0m\u001b[0m\n\u001b[1;32m   1114\u001b[0m     \u001b[0mstrategy\u001b[0m \u001b[0;34m=\u001b[0m \u001b[0mds_context\u001b[0m\u001b[0;34m.\u001b[0m\u001b[0mget_strategy\u001b[0m\u001b[0;34m(\u001b[0m\u001b[0;34m)\u001b[0m\u001b[0;34m\u001b[0m\u001b[0;34m\u001b[0m\u001b[0m\n",
            "\u001b[0;32m/usr/local/lib/python3.7/dist-packages/tensorflow/python/keras/engine/data_adapter.py\u001b[0m in \u001b[0;36m__init__\u001b[0;34m(self, x, y, sample_weights, sample_weight_modes, batch_size, epochs, steps, shuffle, **kwargs)\u001b[0m\n\u001b[1;32m    276\u001b[0m     \u001b[0;31m# If batch_size is not passed but steps is, calculate from the input data.\u001b[0m\u001b[0;34m\u001b[0m\u001b[0;34m\u001b[0m\u001b[0;34m\u001b[0m\u001b[0m\n\u001b[1;32m    277\u001b[0m     \u001b[0;31m# Default to 32 for backwards compat.\u001b[0m\u001b[0;34m\u001b[0m\u001b[0;34m\u001b[0m\u001b[0;34m\u001b[0m\u001b[0m\n\u001b[0;32m--> 278\u001b[0;31m     \u001b[0;32mif\u001b[0m \u001b[0;32mnot\u001b[0m \u001b[0mbatch_size\u001b[0m\u001b[0;34m:\u001b[0m\u001b[0;34m\u001b[0m\u001b[0;34m\u001b[0m\u001b[0m\n\u001b[0m\u001b[1;32m    279\u001b[0m       \u001b[0mbatch_size\u001b[0m \u001b[0;34m=\u001b[0m \u001b[0mint\u001b[0m\u001b[0;34m(\u001b[0m\u001b[0mmath\u001b[0m\u001b[0;34m.\u001b[0m\u001b[0mceil\u001b[0m\u001b[0;34m(\u001b[0m\u001b[0mnum_samples\u001b[0m \u001b[0;34m/\u001b[0m \u001b[0msteps\u001b[0m\u001b[0;34m)\u001b[0m\u001b[0;34m)\u001b[0m \u001b[0;32mif\u001b[0m \u001b[0msteps\u001b[0m \u001b[0;32melse\u001b[0m \u001b[0;36m32\u001b[0m\u001b[0;34m\u001b[0m\u001b[0;34m\u001b[0m\u001b[0m\n\u001b[1;32m    280\u001b[0m \u001b[0;34m\u001b[0m\u001b[0m\n",
            "\u001b[0;31mValueError\u001b[0m: The truth value of an array with more than one element is ambiguous. Use a.any() or a.all()"
          ]
        }
      ]
    },
    {
      "cell_type": "code",
      "metadata": {
        "id": "jT47xpO70PEy"
      },
      "source": [
        "tf.math.confusion_matrix(\n",
        "    test_labels, predictions, num_classes=None, weights=None, dtype=tf.dtypes.int32,\n",
        "    name=None\n",
        ")"
      ],
      "execution_count": 17,
      "outputs": []
    },
    {
      "cell_type": "code",
      "metadata": {
        "id": "wmbueApkbQd4"
      },
      "source": [
        ""
      ],
      "execution_count": null,
      "outputs": []
    }
  ]
}